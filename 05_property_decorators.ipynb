{
 "cells": [
  {
   "cell_type": "markdown",
   "metadata": {},
   "source": [
    "### Property Decorator\n",
    "\n",
    "- allows us to have getter, setter, deleter functionality "
   ]
  },
  {
   "cell_type": "code",
   "execution_count": 6,
   "metadata": {},
   "outputs": [
    {
     "name": "stdout",
     "output_type": "stream",
     "text": [
      "John\n",
      "John.Smith@company.com\n",
      "John Smith\n"
     ]
    }
   ],
   "source": [
    "class Employee:\n",
    "    def __init__(self, first, last): # inputs\n",
    "        \n",
    "        # set all of the instance variables \n",
    "        self.first = first \n",
    "        self.last = last\n",
    "        self.email = first + '.' + last + '@company.com'\n",
    "        \n",
    "    \n",
    "    # creating a method that gives the full name\n",
    "    def fullname(self): # always takes the instance as the first argument\n",
    "        return '{} {}'.format(self.first, self.last)\n",
    "    \n",
    "emp_1 = Employee('John', 'Smith')\n",
    "\n",
    "print(emp_1.first)\n",
    "print(emp_1.email)\n",
    "print(emp_1.fullname())\n",
    "\n"
   ]
  },
  {
   "cell_type": "code",
   "execution_count": 8,
   "metadata": {},
   "outputs": [
    {
     "name": "stdout",
     "output_type": "stream",
     "text": [
      "Now we are changing the first name, you will see that the first name in the email is still John\n",
      "Madison\n",
      "John.Smith@company.com\n",
      "Madison Smith\n"
     ]
    }
   ],
   "source": [
    "print('Now we are changing the first name, you will see that the first name in the email is still John')\n",
    "\n",
    "emp_1.first = 'Madison'\n",
    "\n",
    "print(emp_1.first)\n",
    "print(emp_1.email)\n",
    "print(emp_1.fullname())"
   ]
  },
  {
   "cell_type": "markdown",
   "metadata": {},
   "source": [
    "### Making the email method the same as the fullname method"
   ]
  },
  {
   "cell_type": "code",
   "execution_count": 15,
   "metadata": {},
   "outputs": [
    {
     "name": "stdout",
     "output_type": "stream",
     "text": [
      "John\n",
      "John.Smith@company.com\n",
      "John Smith\n"
     ]
    }
   ],
   "source": [
    "class EmployeeV2:\n",
    "    def __init__(self, first, last): # inputs\n",
    "        \n",
    "        # set all of the instance variables \n",
    "        self.first = first \n",
    "        self.last = last\n",
    "        # self.email = first + '.' + last + '@company.com'\n",
    "        \n",
    "    def email(self):\n",
    "        return '{}.{}@company.com'.format(self.first, self.last)\n",
    "    \n",
    "    # creating a method that gives the full name\n",
    "    def fullname(self): # always takes the instance as the first argument\n",
    "        return '{} {}'.format(self.first, self.last)\n",
    "\n",
    "    \n",
    "\n",
    "emp_2 = EmployeeV2('John', 'Smith')\n",
    "\n",
    "\n",
    "print(emp_2.first)\n",
    "print(emp_2.email())\n",
    "print(emp_2.fullname())"
   ]
  },
  {
   "cell_type": "markdown",
   "metadata": {},
   "source": [
    "### Use the `@property decorator` because now everyone will have to use those parantheses. Implementation is a method, but access as an attriute"
   ]
  },
  {
   "cell_type": "code",
   "execution_count": 17,
   "metadata": {},
   "outputs": [
    {
     "name": "stdout",
     "output_type": "stream",
     "text": [
      "John\n",
      "John.Smith@company.com\n",
      "John Smith\n"
     ]
    }
   ],
   "source": [
    "class EmployeeV3:\n",
    "    def __init__(self, first, last): # inputs\n",
    "        \n",
    "        # set all of the instance variables \n",
    "        self.first = first \n",
    "        self.last = last\n",
    "    \n",
    "    @property \n",
    "    def email(self):\n",
    "        return '{}.{}@company.com'.format(self.first, self.last)\n",
    "    \n",
    "    # creating a method that gives the full name\n",
    "    def fullname(self): # always takes the instance as the first argument\n",
    "        return '{} {}'.format(self.first, self.last)\n",
    "    \n",
    "emp_3 = EmployeeV3('John', 'Smith')\n",
    "\n",
    "\n",
    "print(emp_3.first)\n",
    "print(emp_3.email)\n",
    "print(emp_3.fullname())"
   ]
  },
  {
   "cell_type": "markdown",
   "metadata": {},
   "source": [
    "### We can also do this will fullname"
   ]
  },
  {
   "cell_type": "code",
   "execution_count": 18,
   "metadata": {},
   "outputs": [
    {
     "name": "stdout",
     "output_type": "stream",
     "text": [
      "John\n",
      "John.Smith@company.com\n",
      "John Smith\n"
     ]
    }
   ],
   "source": [
    "class EmployeeV4:\n",
    "    def __init__(self, first, last): # inputs\n",
    "        \n",
    "        # set all of the instance variables \n",
    "        self.first = first \n",
    "        self.last = last\n",
    "    \n",
    "    @property \n",
    "    def email(self):\n",
    "        return '{}.{}@company.com'.format(self.first, self.last)\n",
    "    \n",
    "    @property\n",
    "    def fullname(self): # always takes the instance as the first argument\n",
    "        return '{} {}'.format(self.first, self.last)\n",
    "    \n",
    "emp_4 = EmployeeV4('John', 'Smith')\n",
    "\n",
    "\n",
    "print(emp_4.first)\n",
    "print(emp_4.email)\n",
    "print(emp_4.fullname)"
   ]
  },
  {
   "cell_type": "markdown",
   "metadata": {},
   "source": [
    "### But if we do `emp_4.fullname = 'Anne Lee'` it won't change the `emp_4.first` and `emp_4.last`"
   ]
  },
  {
   "cell_type": "code",
   "execution_count": 19,
   "metadata": {},
   "outputs": [
    {
     "ename": "AttributeError",
     "evalue": "can't set attribute",
     "output_type": "error",
     "traceback": [
      "\u001b[0;31m---------------------------------------------------------------------------\u001b[0m",
      "\u001b[0;31mAttributeError\u001b[0m                            Traceback (most recent call last)",
      "\u001b[0;32m<ipython-input-19-f24e73270ace>\u001b[0m in \u001b[0;36m<module>\u001b[0;34m\u001b[0m\n\u001b[0;32m----> 1\u001b[0;31m \u001b[0memp_4\u001b[0m\u001b[0;34m.\u001b[0m\u001b[0mfullname\u001b[0m \u001b[0;34m=\u001b[0m \u001b[0;34m'Anne Lee'\u001b[0m\u001b[0;34m\u001b[0m\u001b[0;34m\u001b[0m\u001b[0m\n\u001b[0m\u001b[1;32m      2\u001b[0m \u001b[0;34m\u001b[0m\u001b[0m\n\u001b[1;32m      3\u001b[0m \u001b[0;34m\u001b[0m\u001b[0m\n\u001b[1;32m      4\u001b[0m \u001b[0mprint\u001b[0m\u001b[0;34m(\u001b[0m\u001b[0memp_4\u001b[0m\u001b[0;34m.\u001b[0m\u001b[0mfirst\u001b[0m\u001b[0;34m)\u001b[0m\u001b[0;34m\u001b[0m\u001b[0;34m\u001b[0m\u001b[0m\n\u001b[1;32m      5\u001b[0m \u001b[0mprint\u001b[0m\u001b[0;34m(\u001b[0m\u001b[0memp_4\u001b[0m\u001b[0;34m.\u001b[0m\u001b[0memail\u001b[0m\u001b[0;34m)\u001b[0m\u001b[0;34m\u001b[0m\u001b[0;34m\u001b[0m\u001b[0m\n",
      "\u001b[0;31mAttributeError\u001b[0m: can't set attribute"
     ]
    }
   ],
   "source": [
    "emp_4.fullname = 'Anne Lee'\n",
    "\n",
    "\n",
    "print(emp_4.first)\n",
    "print(emp_4.email)\n",
    "print(emp_4.fullname)"
   ]
  },
  {
   "cell_type": "markdown",
   "metadata": {},
   "source": [
    "### We have to use another setter, but will have to be `method.setter`"
   ]
  },
  {
   "cell_type": "code",
   "execution_count": 20,
   "metadata": {},
   "outputs": [
    {
     "name": "stdout",
     "output_type": "stream",
     "text": [
      "Anne\n",
      "Anne.Lee@company.com\n",
      "Anne Lee\n"
     ]
    }
   ],
   "source": [
    "class EmployeeV5:\n",
    "    def __init__(self, first, last): # inputs\n",
    "        \n",
    "        # set all of the instance variables \n",
    "        self.first = first \n",
    "        self.last = last\n",
    "    \n",
    "    @property \n",
    "    def email(self):\n",
    "        return '{}.{}@company.com'.format(self.first, self.last)\n",
    "    \n",
    "    @property\n",
    "    def fullname(self): # always takes the instance as the first argument\n",
    "        return '{} {}'.format(self.first, self.last)\n",
    "    \n",
    "    @fullname.setter\n",
    "    def fullname(self, name): # always takes the instance as the first argument\n",
    "        first, last = name.split(' ')\n",
    "        self.first = first\n",
    "        self.last = last \n",
    "    \n",
    "emp_5 = EmployeeV5('John', 'Smith')\n",
    "\n",
    "emp_5.fullname = 'Anne Lee'\n",
    "\n",
    "\n",
    "print(emp_5.first)\n",
    "print(emp_5.email)\n",
    "print(emp_5.fullname)"
   ]
  },
  {
   "cell_type": "markdown",
   "metadata": {},
   "source": [
    "### Do `@method.deleter` to have a deleter ability "
   ]
  },
  {
   "cell_type": "code",
   "execution_count": 25,
   "metadata": {},
   "outputs": [
    {
     "name": "stdout",
     "output_type": "stream",
     "text": [
      "Anne\n",
      "Anne.Lee@company.com\n",
      "Anne Lee\n"
     ]
    }
   ],
   "source": [
    "class EmployeeV6:\n",
    "    def __init__(self, first, last): # inputs\n",
    "        \n",
    "        # set all of the instance variables \n",
    "        self.first = first \n",
    "        self.last = last\n",
    "    \n",
    "    @property \n",
    "    def email(self):\n",
    "        return '{}.{}@company.com'.format(self.first, self.last)\n",
    "    \n",
    "    @property\n",
    "    def fullname(self): # always takes the instance as the first argument\n",
    "        return '{} {}'.format(self.first, self.last)\n",
    "    \n",
    "    @fullname.setter\n",
    "    def fullname(self, name): # always takes the instance as the first argument\n",
    "        first, last = name.split(' ')\n",
    "        self.first = first\n",
    "        self.last = last \n",
    "        \n",
    "    @fullname.deleter\n",
    "    def fullname(self): # always takes the instance as the first argument\n",
    "        print('Delete Name!!!')\n",
    "        self.first = None\n",
    "        self.last = None\n",
    "        \n",
    "        \n",
    "emp_6 = EmployeeV6('John', 'Smith')\n",
    "\n",
    "emp_6.fullname = 'Anne Lee'\n",
    "\n",
    "\n",
    "print(emp_6.first)\n",
    "print(emp_6.email)\n",
    "print(emp_6.fullname)\n",
    "\n"
   ]
  },
  {
   "cell_type": "code",
   "execution_count": 26,
   "metadata": {},
   "outputs": [
    {
     "name": "stdout",
     "output_type": "stream",
     "text": [
      "Delete Name!!!\n"
     ]
    }
   ],
   "source": [
    "del emp_6.fullname"
   ]
  },
  {
   "cell_type": "code",
   "execution_count": 27,
   "metadata": {},
   "outputs": [
    {
     "name": "stdout",
     "output_type": "stream",
     "text": [
      "None\n",
      "None.None@company.com\n",
      "None None\n"
     ]
    }
   ],
   "source": [
    "print(emp_6.first)\n",
    "print(emp_6.email)\n",
    "print(emp_6.fullname)"
   ]
  },
  {
   "cell_type": "code",
   "execution_count": null,
   "metadata": {},
   "outputs": [],
   "source": []
  }
 ],
 "metadata": {
  "kernelspec": {
   "display_name": "Python 3",
   "language": "python",
   "name": "python3"
  },
  "language_info": {
   "codemirror_mode": {
    "name": "ipython",
    "version": 3
   },
   "file_extension": ".py",
   "mimetype": "text/x-python",
   "name": "python",
   "nbconvert_exporter": "python",
   "pygments_lexer": "ipython3",
   "version": "3.8.3"
  }
 },
 "nbformat": 4,
 "nbformat_minor": 4
}
