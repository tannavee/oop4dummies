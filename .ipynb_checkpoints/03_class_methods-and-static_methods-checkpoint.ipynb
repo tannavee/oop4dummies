{
 "cells": [
  {
   "cell_type": "markdown",
   "metadata": {},
   "source": [
    "### There are 3 kinds of Methods pertaining to class\n",
    "1. Regular Methods: Automatically take the instance as the first argument (self)\n",
    "2. Class Methods: Automatically takes the class as the first argument, add a decorator to the top `@classmethod`\n",
    "    - you can also use classmethods as alternative constructors \n",
    "3. Static Methods: don't pass anything automatically, the instance or the class, a method should be a static method if you don't interact with the class or instance anywhere within the method"
   ]
  },
  {
   "cell_type": "code",
   "execution_count": 8,
   "metadata": {},
   "outputs": [
    {
     "name": "stdout",
     "output_type": "stream",
     "text": [
      "1.04\n",
      "1.04\n",
      "1.04\n"
     ]
    }
   ],
   "source": [
    "class Employee:\n",
    "    \n",
    "    # creating a class attribute\n",
    "    raise_amt = 1.04\n",
    "    num_of_emps = 0\n",
    "    \n",
    "    def __init__(self, first, last, pay): # inputs\n",
    "        # set all of the instance variables \n",
    "        self.first = first \n",
    "        self.last = last\n",
    "        self.pay = pay\n",
    "        self.email = first + '.' + last + '@company.com'\n",
    "        Employee.num_of_emps += 1\n",
    "    \n",
    "    # creating a method that gives the full name\n",
    "    def fullname(self): # always takes the instance as the first argument\n",
    "        return '{} {}'.format(self.first, self.last)\n",
    "    \n",
    "    # creating method that applies raise\n",
    "    def apply_raise(self):\n",
    "        self.pay = int(self.pay * self.raise_amt) # you can do Employee.raise_amount, or self.raise_amount\n",
    "        \n",
    "    # adding in a classmethod, takes in the class as the first argument\n",
    "    @classmethod\n",
    "    def set_raise_amt(cls, amt):\n",
    "        cls.raise_amt = amt\n",
    "        \n",
    "        \n",
    "emp_1 = Employee('Tia', 'Landry', 100000)\n",
    "emp_2 = Employee('Tamera', 'Campbell', 56000)\n",
    "\n",
    "print(Employee.raise_amt)\n",
    "print(emp_1.raise_amt)\n",
    "print(emp_2.raise_amt)"
   ]
  },
  {
   "cell_type": "code",
   "execution_count": 5,
   "metadata": {},
   "outputs": [
    {
     "name": "stdout",
     "output_type": "stream",
     "text": [
      "1.05\n",
      "1.05\n",
      "1.05\n"
     ]
    }
   ],
   "source": [
    "# we can change the class attriute\n",
    "\n",
    "Employee.set_raise_amt(1.05)\n",
    "\n",
    "print(Employee.raise_amt)\n",
    "print(emp_1.raise_amt)\n",
    "print(emp_2.raise_amt)"
   ]
  },
  {
   "cell_type": "markdown",
   "metadata": {},
   "source": [
    "#### Note\n",
    "\n",
    "`Employee.set_raise_amt(1.05) == \n",
    "EmployeeV3.raise_amt = 1.05`\n"
   ]
  },
  {
   "cell_type": "markdown",
   "metadata": {},
   "source": [
    "### Let's say you were getting employee information as a string"
   ]
  },
  {
   "cell_type": "code",
   "execution_count": 16,
   "metadata": {},
   "outputs": [
    {
     "name": "stdout",
     "output_type": "stream",
     "text": [
      "Jane.Doe@company.com\n",
      "2000000\n"
     ]
    }
   ],
   "source": [
    "emp_str_1 = 'Joe-Davis-70000'\n",
    "emp_str_2 = 'Jane-Doe-2000000'\n",
    "emp_str_3 = 'Anne-Lee-30000'\n",
    "\n",
    "first, last, pay = emp_str_2.split('-')\n",
    "new_emp_2 = Employee(first, last, pay)\n",
    "\n",
    "print(new_emp_2.email)\n",
    "print(new_emp_2.pay)"
   ]
  },
  {
   "cell_type": "markdown",
   "metadata": {},
   "source": [
    "### You can do the above as part of a `classmethod` as a constructor"
   ]
  },
  {
   "cell_type": "code",
   "execution_count": 18,
   "metadata": {},
   "outputs": [
    {
     "name": "stdout",
     "output_type": "stream",
     "text": [
      "Cody.Ko@company.com\n",
      "900000\n"
     ]
    }
   ],
   "source": [
    "class EmployeeV2:\n",
    "    \n",
    "    # creating a class attribute\n",
    "    raise_amt = 1.04\n",
    "    num_of_emps = 0\n",
    "    \n",
    "    def __init__(self, first, last, pay): # inputs\n",
    "        # set all of the instance variables \n",
    "        self.first = first \n",
    "        self.last = last\n",
    "        self.pay = pay\n",
    "        self.email = first + '.' + last + '@company.com'\n",
    "        EmployeeV2.num_of_emps += 1\n",
    "    \n",
    "    # creating a method that gives the full name\n",
    "    def fullname(self): # always takes the instance as the first argument\n",
    "        return '{} {}'.format(self.first, self.last)\n",
    "    \n",
    "    # creating method that applies raise\n",
    "    def apply_raise(self):\n",
    "        self.pay = int(self.pay * self.raise_amt) # you can do Employee.raise_amount, or self.raise_amount\n",
    "        \n",
    "    # adding in a classmethod, takes in the class as the first argument\n",
    "    @classmethod\n",
    "    def set_raise_amt(cls, amt):\n",
    "        cls.raise_amt = amt\n",
    "        \n",
    "    @classmethod\n",
    "    def from_string(cls, emp_str):\n",
    "        first, last, pay = emp_str.split('-')\n",
    "        return cls(first, last, pay) # make sure to return this so that the object is retrievavel \n",
    "    \n",
    "    \n",
    "emp_str_4 = 'Cody-Ko-900000'      \n",
    "\n",
    "new_emp_4 = EmployeeV2.from_string(emp_str_4 )\n",
    "\n",
    "print(new_emp_4.email)\n",
    "print(new_emp_4.pay)"
   ]
  },
  {
   "cell_type": "markdown",
   "metadata": {},
   "source": [
    "### Let's say we want a method that tells us if a date was a work day, doesn't depend of an object / instance or a class"
   ]
  },
  {
   "cell_type": "code",
   "execution_count": 21,
   "metadata": {},
   "outputs": [
    {
     "name": "stdout",
     "output_type": "stream",
     "text": [
      "False\n"
     ]
    }
   ],
   "source": [
    "class EmployeeV3:\n",
    "    \n",
    "    # creating a class attribute\n",
    "    raise_amt = 1.04\n",
    "    num_of_emps = 0\n",
    "    \n",
    "    def __init__(self, first, last, pay): # inputs\n",
    "        # set all of the instance variables \n",
    "        self.first = first \n",
    "        self.last = last\n",
    "        self.pay = pay\n",
    "        self.email = first + '.' + last + '@company.com'\n",
    "        EmployeeV3.num_of_emps += 1\n",
    "    \n",
    "    # creating a method that gives the full name\n",
    "    def fullname(self): # always takes the instance as the first argument\n",
    "        return '{} {}'.format(self.first, self.last)\n",
    "    \n",
    "    # creating method that applies raise\n",
    "    def apply_raise(self):\n",
    "        self.pay = int(self.pay * self.raise_amt) # you can do Employee.raise_amount, or self.raise_amount\n",
    "        \n",
    "    # adding in a classmethod, takes in the class as the first argument\n",
    "    @classmethod\n",
    "    def set_raise_amt(cls, amt):\n",
    "        cls.raise_amt = amt\n",
    "        \n",
    "    @classmethod\n",
    "    def from_string(cls, emp_str):\n",
    "        first, last, pay = emp_str.split('-')\n",
    "        return cls(first, last, pay) # make sure to return this so that the object is retrievavel \n",
    "    \n",
    "    @staticmethod \n",
    "    def is_workday(day): # reminder: since staticmethods dont take in an obj or class, just put in the variable you want to work with \n",
    "        if day.weekday() == 5 or day.weekday() == 6:\n",
    "            return False\n",
    "        else:\n",
    "            return True \n",
    "        \n",
    "import datetime \n",
    "\n",
    "my_date_weekend_test = datetime.date(2020, 9, 27)\n",
    "\n",
    "print(EmployeeV3.is_workday(my_date))\n",
    "    "
   ]
  },
  {
   "cell_type": "code",
   "execution_count": null,
   "metadata": {},
   "outputs": [],
   "source": []
  }
 ],
 "metadata": {
  "kernelspec": {
   "display_name": "Python 3",
   "language": "python",
   "name": "python3"
  },
  "language_info": {
   "codemirror_mode": {
    "name": "ipython",
    "version": 3
   },
   "file_extension": ".py",
   "mimetype": "text/x-python",
   "name": "python",
   "nbconvert_exporter": "python",
   "pygments_lexer": "ipython3",
   "version": "3.8.3"
  }
 },
 "nbformat": 4,
 "nbformat_minor": 4
}
