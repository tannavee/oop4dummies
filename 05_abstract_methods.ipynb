{
 "cells": [
  {
   "cell_type": "markdown",
   "metadata": {},
   "source": [
    "### Abstract Methods\n",
    "\n",
    "- you basically want to create a framework (see below Shape class\n",
    "- Is a method that is declared but contains no implementaion. \n",
    "- Abstract classes may not be instatiated, \n",
    "- and its abstract methods must be implemented by its subclasses.\n",
    "- also offer the benefit of letting you define functionality that your child classes  can utilize later\n",
    "\n",
    "- abc = Abstract Base Classes"
   ]
  },
  {
   "cell_type": "code",
   "execution_count": 2,
   "metadata": {},
   "outputs": [],
   "source": [
    "# don't want other users to create an instance of the shape class, acts like a template for the square class\n",
    "# we also want the methods in the shape class in the subclass\n",
    "\n",
    "class test_Shape:\n",
    "    def area(self):\n",
    "        pass\n",
    "    def perimeter(self):\n",
    "        pass\n",
    "\n",
    "class test_Square(Shape):\n",
    "    def __init__(self, sside):\n",
    "        self.__side = side\n",
    "        \n",
    "\n",
    "# right now, we can create an instance of the Shape class        \n",
    "shape = test_Shape()"
   ]
  },
  {
   "cell_type": "code",
   "execution_count": 3,
   "metadata": {},
   "outputs": [
    {
     "ename": "TypeError",
     "evalue": "Can't instantiate abstract class Shape with abstract methods area, perimeter",
     "output_type": "error",
     "traceback": [
      "\u001b[0;31m---------------------------------------------------------------------------\u001b[0m",
      "\u001b[0;31mTypeError\u001b[0m                                 Traceback (most recent call last)",
      "\u001b[0;32m<ipython-input-3-a3ad5ef3afb4>\u001b[0m in \u001b[0;36m<module>\u001b[0;34m\u001b[0m\n\u001b[1;32m     17\u001b[0m         \u001b[0mself\u001b[0m\u001b[0;34m.\u001b[0m\u001b[0m__side\u001b[0m \u001b[0;34m=\u001b[0m \u001b[0mside\u001b[0m\u001b[0;34m\u001b[0m\u001b[0;34m\u001b[0m\u001b[0m\n\u001b[1;32m     18\u001b[0m \u001b[0;34m\u001b[0m\u001b[0m\n\u001b[0;32m---> 19\u001b[0;31m \u001b[0mshape\u001b[0m \u001b[0;34m=\u001b[0m \u001b[0mShape\u001b[0m\u001b[0;34m(\u001b[0m\u001b[0;34m)\u001b[0m\u001b[0;34m\u001b[0m\u001b[0;34m\u001b[0m\u001b[0m\n\u001b[0m",
      "\u001b[0;31mTypeError\u001b[0m: Can't instantiate abstract class Shape with abstract methods area, perimeter"
     ]
    }
   ],
   "source": [
    "# abc: module that stands for abstract base classes\n",
    "\n",
    "from abc import ABC, abstractmethod\n",
    "\n",
    "class Shape(ABC):\n",
    "    \n",
    "    @abstractmethod # add a decorator, will force to implement in the subclass\n",
    "    def area(self):\n",
    "        pass\n",
    "    \n",
    "    @abstractmethod \n",
    "    def perimeter(self):\n",
    "        pass\n",
    "\n",
    "class Square(Shape):\n",
    "    def __init__(self, sside):\n",
    "        self.__side = side\n",
    "        \n",
    "shape = Shape() # wont be able to create an instance now"
   ]
  },
  {
   "cell_type": "code",
   "execution_count": 4,
   "metadata": {},
   "outputs": [
    {
     "ename": "TypeError",
     "evalue": "Can't instantiate abstract class Square with abstract methods area, perimeter",
     "output_type": "error",
     "traceback": [
      "\u001b[0;31m---------------------------------------------------------------------------\u001b[0m",
      "\u001b[0;31mTypeError\u001b[0m                                 Traceback (most recent call last)",
      "\u001b[0;32m<ipython-input-4-d61bc49708f0>\u001b[0m in \u001b[0;36m<module>\u001b[0;34m\u001b[0m\n\u001b[0;32m----> 1\u001b[0;31m \u001b[0msquare\u001b[0m \u001b[0;34m=\u001b[0m \u001b[0mSquare\u001b[0m\u001b[0;34m(\u001b[0m\u001b[0;36m5\u001b[0m\u001b[0;34m)\u001b[0m\u001b[0;34m\u001b[0m\u001b[0;34m\u001b[0m\u001b[0m\n\u001b[0m",
      "\u001b[0;31mTypeError\u001b[0m: Can't instantiate abstract class Square with abstract methods area, perimeter"
     ]
    }
   ],
   "source": [
    "square = Square(5) # the subclass needs to implement the abstract methods, other wise you will get an error"
   ]
  },
  {
   "cell_type": "code",
   "execution_count": 14,
   "metadata": {},
   "outputs": [
    {
     "name": "stdout",
     "output_type": "stream",
     "text": [
      "25\n",
      "20\n"
     ]
    }
   ],
   "source": [
    "class Shape(ABC):\n",
    "    \n",
    "    @abstractmethod # add a decorator, will force to implement in the subclass\n",
    "    def area(self):\n",
    "        pass\n",
    "    \n",
    "    @abstractmethod \n",
    "    def perimeter(self):\n",
    "        pass\n",
    "\n",
    "class Square(Shape):\n",
    "    def __init__(self, side):\n",
    "        self.__side = side\n",
    "        \n",
    "    def area(self):\n",
    "        return self.__side * self.__side\n",
    "    \n",
    "    def perimeter(self):\n",
    "        return 4 * self.__side\n",
    "    \n",
    "square = Square(5)\n",
    "print(square.area())\n",
    "print(square.perimeter())"
   ]
  },
  {
   "cell_type": "markdown",
   "metadata": {},
   "source": [
    "### Example 2"
   ]
  },
  {
   "cell_type": "code",
   "execution_count": 19,
   "metadata": {},
   "outputs": [
    {
     "name": "stdout",
     "output_type": "stream",
     "text": [
      "A Triangle has 3 sides\n",
      "A Hexagon has 6 sides\n"
     ]
    }
   ],
   "source": [
    "from abc import (\n",
    "    ABC, \n",
    "    abstractmethod,\n",
    ")\n",
    "\n",
    "class Polygon(ABC):\n",
    "    \n",
    "    @abstractmethod\n",
    "    def num_of_sides(self):\n",
    "        pass\n",
    "    \n",
    "    \n",
    "class Triangle(Polygon):\n",
    "    \n",
    "    def num_of_sides(self):\n",
    "        print('A Triangle has 3 sides')\n",
    "\n",
    "class Pentagon(Polygon):\n",
    "    \n",
    "    def num_of_sides(self):\n",
    "        print('A Pentagon has 5 sides')\n",
    "        \n",
    "class Hexagon(Polygon):\n",
    "    \n",
    "    def num_of_sides(self):\n",
    "        print('A Hexagon has 6 sides')\n",
    "        \n",
    "\n",
    "tri_1 = Triangle()\n",
    "tri_1.num_of_sides()\n",
    "\n",
    "hex_1 = Hexagon()\n",
    "hex_1.num_of_sides()"
   ]
  },
  {
   "cell_type": "code",
   "execution_count": null,
   "metadata": {},
   "outputs": [],
   "source": []
  }
 ],
 "metadata": {
  "kernelspec": {
   "display_name": "Python 3",
   "language": "python",
   "name": "python3"
  },
  "language_info": {
   "codemirror_mode": {
    "name": "ipython",
    "version": 3
   },
   "file_extension": ".py",
   "mimetype": "text/x-python",
   "name": "python",
   "nbconvert_exporter": "python",
   "pygments_lexer": "ipython3",
   "version": "3.8.3"
  }
 },
 "nbformat": 4,
 "nbformat_minor": 4
}
