{
 "cells": [
  {
   "cell_type": "markdown",
   "metadata": {},
   "source": [
    "### Class Variables\n",
    "- are variables that are shared amongst all instances of a class\n",
    "    - while instance variables (ex: name, email, pay) can be unique for all instances\n",
    "    - class variables have to be the same\n"
   ]
  },
  {
   "cell_type": "code",
   "execution_count": 1,
   "metadata": {},
   "outputs": [
    {
     "name": "stdout",
     "output_type": "stream",
     "text": [
      "100000\n",
      "104000\n"
     ]
    }
   ],
   "source": [
    "# for example company gives the same raise to everyone \n",
    "\n",
    "class Employee:\n",
    "    \n",
    "    def __init__(self, first, last, pay): # inputs\n",
    "        # set all of the instance variables \n",
    "        self.first = first \n",
    "        self.last = last\n",
    "        self.pay = pay\n",
    "        self.email = first + '.' + last + '@company.com'\n",
    "        # names, pay, email are all attributes of the class\n",
    "    \n",
    "    # creating a method that gives the full name\n",
    "    def fullname(self): # always takes the instance as the first argument\n",
    "        return '{} {}'.format(self.first, self.last)\n",
    "    \n",
    "    # creating method that applies raise\n",
    "    def apply_raise(self):\n",
    "        self.pay = int(self.pay * 1.04)\n",
    "        \n",
    "emp_1 = Employee('Lisa', 'Landry', 100000)\n",
    "emp_2 = Employee('Ray', 'Campbell', 56000)\n",
    "        \n",
    "\n",
    "# while this works, you can't see what the raise amount was or easily update the raise amount     \n",
    "print(emp_1.pay)\n",
    "emp_1.apply_raise()\n",
    "print(emp_1.pay)"
   ]
  },
  {
   "cell_type": "markdown",
   "metadata": {},
   "source": [
    "### when we access the class variables, we need to access them through\n",
    "1. class itself, or \n",
    "    \n",
    "    ```\n",
    "    def apply_raise(self):\n",
    "        self.pay = int(self.pay * EmployeeV3.raise_amount)\n",
    "    ```\n",
    "   \n",
    "2. instance of the class\n",
    "    \n",
    "    ```\n",
    "    def apply_raise(self):\n",
    "        self.pay = int(self.pay * self.raise_amount)\n",
    "    ```\n",
    "\n",
    "### Why?\n",
    "When we try to get an attribute on an instance (emp_1.raise_ammount) it will check if that istance has that attribute, if it doesn't then it will see if the class that it inherits has that attribute. \n",
    "\n",
    "if you run `print(emp_1.__dict__)` you will get `{'first': 'Lisa', 'last': 'Landry', 'pay':.....}`\n",
    "if you run `print(emp_1.__dict__)` you will get methods, attrubutes, etc"
   ]
  },
  {
   "cell_type": "code",
   "execution_count": 4,
   "metadata": {},
   "outputs": [
    {
     "name": "stdout",
     "output_type": "stream",
     "text": [
      "100000\n"
     ]
    },
    {
     "ename": "NameError",
     "evalue": "name 'raise_amount' is not defined",
     "output_type": "error",
     "traceback": [
      "\u001b[0;31m---------------------------------------------------------------------------\u001b[0m",
      "\u001b[0;31mNameError\u001b[0m                                 Traceback (most recent call last)",
      "\u001b[0;32m<ipython-input-4-c84f43cf7b79>\u001b[0m in \u001b[0;36m<module>\u001b[0;34m\u001b[0m\n\u001b[1;32m     24\u001b[0m \u001b[0;34m\u001b[0m\u001b[0m\n\u001b[1;32m     25\u001b[0m \u001b[0mprint\u001b[0m\u001b[0;34m(\u001b[0m\u001b[0memp_1\u001b[0m\u001b[0;34m.\u001b[0m\u001b[0mpay\u001b[0m\u001b[0;34m)\u001b[0m\u001b[0;34m\u001b[0m\u001b[0;34m\u001b[0m\u001b[0m\n\u001b[0;32m---> 26\u001b[0;31m \u001b[0memp_1\u001b[0m\u001b[0;34m.\u001b[0m\u001b[0mapply_raise\u001b[0m\u001b[0;34m(\u001b[0m\u001b[0;34m)\u001b[0m\u001b[0;34m\u001b[0m\u001b[0;34m\u001b[0m\u001b[0m\n\u001b[0m\u001b[1;32m     27\u001b[0m \u001b[0mprint\u001b[0m\u001b[0;34m(\u001b[0m\u001b[0memp_1\u001b[0m\u001b[0;34m.\u001b[0m\u001b[0mpay\u001b[0m\u001b[0;34m)\u001b[0m\u001b[0;34m\u001b[0m\u001b[0;34m\u001b[0m\u001b[0m\n",
      "\u001b[0;32m<ipython-input-4-c84f43cf7b79>\u001b[0m in \u001b[0;36mapply_raise\u001b[0;34m(self)\u001b[0m\n\u001b[1;32m     18\u001b[0m     \u001b[0;31m# creating method that applies raise\u001b[0m\u001b[0;34m\u001b[0m\u001b[0;34m\u001b[0m\u001b[0;34m\u001b[0m\u001b[0m\n\u001b[1;32m     19\u001b[0m     \u001b[0;32mdef\u001b[0m \u001b[0mapply_raise\u001b[0m\u001b[0;34m(\u001b[0m\u001b[0mself\u001b[0m\u001b[0;34m)\u001b[0m\u001b[0;34m:\u001b[0m\u001b[0;34m\u001b[0m\u001b[0;34m\u001b[0m\u001b[0m\n\u001b[0;32m---> 20\u001b[0;31m         \u001b[0mself\u001b[0m\u001b[0;34m.\u001b[0m\u001b[0mpay\u001b[0m \u001b[0;34m=\u001b[0m \u001b[0mint\u001b[0m\u001b[0;34m(\u001b[0m\u001b[0mself\u001b[0m\u001b[0;34m.\u001b[0m\u001b[0mpay\u001b[0m \u001b[0;34m*\u001b[0m \u001b[0mraise_amount\u001b[0m\u001b[0;34m)\u001b[0m \u001b[0;31m############ you cannot just add raise_amount here, you will get an NameError\u001b[0m\u001b[0;34m\u001b[0m\u001b[0;34m\u001b[0m\u001b[0m\n\u001b[0m\u001b[1;32m     21\u001b[0m \u001b[0;34m\u001b[0m\u001b[0m\n\u001b[1;32m     22\u001b[0m \u001b[0memp_1\u001b[0m \u001b[0;34m=\u001b[0m \u001b[0mEmployeeV2\u001b[0m\u001b[0;34m(\u001b[0m\u001b[0;34m'Tia'\u001b[0m\u001b[0;34m,\u001b[0m \u001b[0;34m'Landry'\u001b[0m\u001b[0;34m,\u001b[0m \u001b[0;36m100000\u001b[0m\u001b[0;34m)\u001b[0m\u001b[0;34m\u001b[0m\u001b[0;34m\u001b[0m\u001b[0m\n",
      "\u001b[0;31mNameError\u001b[0m: name 'raise_amount' is not defined"
     ]
    }
   ],
   "source": [
    "class EmployeeV2:\n",
    "    \n",
    "    # creating a class variable\n",
    "    raise_amount = 1.04\n",
    "    \n",
    "    def __init__(self, first, last, pay): # inputs\n",
    "        # set all of the instance variables \n",
    "        self.first = first \n",
    "        self.last = last\n",
    "        self.pay = pay\n",
    "        self.email = first + '.' + last + '@company.com'\n",
    "        # names, pay, email are all attributes of the class\n",
    "    \n",
    "    # creating a method that gives the full name\n",
    "    def fullname(self): # always takes the instance as the first argument\n",
    "        return '{} {}'.format(self.first, self.last)\n",
    "    \n",
    "    # creating method that applies raise\n",
    "    def apply_raise(self):\n",
    "        self.pay = int(self.pay * raise_amount) ############ you cannot just add raise_amount here, you will get an NameError\n",
    "        \n",
    "emp_1 = EmployeeV2('Tia', 'Landry', 100000)\n",
    "emp_2 = EmployeeV2('Tamera', 'Campbell', 56000)\n",
    "\n",
    "print(emp_1.pay)\n",
    "emp_1.apply_raise()\n",
    "print(emp_1.pay)"
   ]
  },
  {
   "cell_type": "code",
   "execution_count": 13,
   "metadata": {},
   "outputs": [
    {
     "name": "stdout",
     "output_type": "stream",
     "text": [
      "100000\n",
      "104000\n"
     ]
    }
   ],
   "source": [
    "class EmployeeV3:\n",
    "    \n",
    "    # creating a class variable\n",
    "    raise_amount = 1.04\n",
    "    \n",
    "    def __init__(self, first, last, pay): # inputs\n",
    "        # set all of the instance variables \n",
    "        self.first = first \n",
    "        self.last = last\n",
    "        self.pay = pay\n",
    "        self.email = first + '.' + last + '@company.com'\n",
    "        # names, pay, email are all attributes of the class\n",
    "    \n",
    "    # creating a method that gives the full name\n",
    "    def fullname(self): # always takes the instance as the first argument\n",
    "        return '{} {}'.format(self.first, self.last)\n",
    "    \n",
    "    # creating method that applies raise\n",
    "    def apply_raise(self):\n",
    "        self.pay = int(self.pay * self.raise_amount) # you can do Employee.raise_amount, or self.raise_amount\n",
    "        \n",
    "emp_1 = EmployeeV3('Tia', 'Landry', 100000)\n",
    "emp_2 = EmployeeV3('Tamera', 'Campbell', 56000)\n",
    "\n",
    "print(emp_1.pay)\n",
    "emp_1.apply_raise()\n",
    "print(emp_1.pay)"
   ]
  },
  {
   "cell_type": "code",
   "execution_count": 6,
   "metadata": {},
   "outputs": [
    {
     "name": "stdout",
     "output_type": "stream",
     "text": [
      "1.05\n",
      "1.05\n"
     ]
    }
   ],
   "source": [
    "# change class attribute / variable through:\n",
    "\n",
    "EmployeeV3.raise_amount = 1.05\n",
    "\n",
    "print(emp_1.raise_amount)\n",
    "print(EmployeeV3.raise_amount)"
   ]
  },
  {
   "cell_type": "code",
   "execution_count": 17,
   "metadata": {},
   "outputs": [
    {
     "name": "stdout",
     "output_type": "stream",
     "text": [
      "{'first': 'Tamera', 'last': 'Campbell', 'pay': 56000, 'email': 'Tamera.Campbell@company.com', 'raise_amount': 1.05}\n",
      "58800\n"
     ]
    }
   ],
   "source": [
    "# you can apply / create an attribute outside the class\n",
    "\n",
    "emp_2.raise_amount = 1.05\n",
    "print(emp_2.__dict__)\n",
    "emp_2.apply_raise()\n",
    "print(emp_2.pay)"
   ]
  },
  {
   "cell_type": "code",
   "execution_count": 11,
   "metadata": {},
   "outputs": [
    {
     "name": "stdout",
     "output_type": "stream",
     "text": [
      "There are 0 numer of employees\n",
      "After adding Tia Landry and Tamera Campbell there are 2 employees\n"
     ]
    }
   ],
   "source": [
    "# if we wanted to know the number of employees that would be a class attribute, and can add a counter in the __init_ method\n",
    "\n",
    "class EmployeeV4:\n",
    "    \n",
    "    # creating a class attribute\n",
    "    raise_amount = 1.04\n",
    "    num_of_emps = 0\n",
    "    \n",
    "    def __init__(self, first, last, pay): # inputs\n",
    "        # set all of the instance variables \n",
    "        self.first = first \n",
    "        self.last = last\n",
    "        self.pay = pay\n",
    "        self.email = first + '.' + last + '@company.com'\n",
    "        EmployeeV4.num_of_emps += 1\n",
    "    \n",
    "    # creating a method that gives the full name\n",
    "    def fullname(self): # always takes the instance as the first argument\n",
    "        return '{} {}'.format(self.first, self.last)\n",
    "    \n",
    "    # creating method that applies raise\n",
    "    def apply_raise(self):\n",
    "        self.pay = int(self.pay * raise_amount) # you can do Employee.raise_amount, or self.raise_amount\n",
    "        \n",
    "print('There are', EmployeeV4.num_of_emps, 'numer of employees')\n",
    "        \n",
    "emp_1 = EmployeeV4('Tia', 'Landry', 100000)\n",
    "emp_2 = EmployeeV4('Tamera', 'Campbell', 56000)\n",
    "\n",
    "print('After adding', emp_1.fullname(), 'and', emp_2.fullname(), 'there are', EmployeeV4.num_of_emps, 'employees')"
   ]
  }
 ],
 "metadata": {
  "kernelspec": {
   "display_name": "Python 3",
   "language": "python",
   "name": "python3"
  },
  "language_info": {
   "codemirror_mode": {
    "name": "ipython",
    "version": 3
   },
   "file_extension": ".py",
   "mimetype": "text/x-python",
   "name": "python",
   "nbconvert_exporter": "python",
   "pygments_lexer": "ipython3",
   "version": "3.8.3"
  }
 },
 "nbformat": 4,
 "nbformat_minor": 4
}
