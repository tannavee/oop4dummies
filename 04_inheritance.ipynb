{
 "cells": [
  {
   "cell_type": "markdown",
   "metadata": {},
   "source": [
    " ### Inheritance\n",
    " Create subclass, that can inherit and also change info the subclass"
   ]
  },
  {
   "cell_type": "code",
   "execution_count": 1,
   "metadata": {},
   "outputs": [
    {
     "name": "stdout",
     "output_type": "stream",
     "text": [
      "Tia.Landry@company.com\n",
      "Tamera.Campbell@company.com\n"
     ]
    }
   ],
   "source": [
    "# lets say we want to create differnt employees\n",
    "\n",
    "class Employee:\n",
    "    \n",
    "    # creating a class attribute\n",
    "    raise_amt = 1.04\n",
    "    num_of_emps = 0\n",
    "    \n",
    "    def __init__(self, first, last, pay): # inputs\n",
    "        # set all of the instance variables \n",
    "        self.first = first \n",
    "        self.last = last\n",
    "        self.pay = pay\n",
    "        self.email = first + '.' + last + '@company.com'\n",
    "        Employee.num_of_emps += 1\n",
    "    \n",
    "    # creating a method that gives the full name\n",
    "    def fullname(self): # always takes the instance as the first argument\n",
    "        return '{} {}'.format(self.first, self.last)\n",
    "    \n",
    "    # creating method that applies raise\n",
    "    def apply_raise(self):\n",
    "        self.pay = int(self.pay * self.raise_amt) # you can do Employee.raise_amount, or self.raise_amount\n",
    "        \n",
    "        \n",
    "class Developer(Employee): # stating what class we want to inherit from, we inherited it's functionality \n",
    "    pass\n",
    "\n",
    "dev_1 = Employee('Tia', 'Landry', 100000)\n",
    "dev_2 = Employee('Tamera', 'Campbell', 56000)\n",
    "\n",
    "print(dev_1.email)\n",
    "print(dev_2.email)"
   ]
  },
  {
   "cell_type": "code",
   "execution_count": 2,
   "metadata": {},
   "outputs": [
    {
     "name": "stdout",
     "output_type": "stream",
     "text": [
      "Tia.Landry@company.com\n",
      "Tamera.Campbell@company.com\n"
     ]
    }
   ],
   "source": [
    "# running the Devloper class will yied same result as above\n",
    "\n",
    "dev_1 = Developer('Tia', 'Landry', 100000)\n",
    "dev_2 = Developer('Tamera', 'Campbell', 56000)\n",
    "\n",
    "print(dev_1.email)\n",
    "print(dev_2.email)"
   ]
  },
  {
   "cell_type": "code",
   "execution_count": 3,
   "metadata": {},
   "outputs": [
    {
     "name": "stdout",
     "output_type": "stream",
     "text": [
      "Help on class Developer in module __main__:\n",
      "\n",
      "class Developer(Employee)\n",
      " |  Developer(first, last, pay)\n",
      " |  \n",
      " |  Method resolution order:\n",
      " |      Developer\n",
      " |      Employee\n",
      " |      builtins.object\n",
      " |  \n",
      " |  Methods inherited from Employee:\n",
      " |  \n",
      " |  __init__(self, first, last, pay)\n",
      " |      Initialize self.  See help(type(self)) for accurate signature.\n",
      " |  \n",
      " |  apply_raise(self)\n",
      " |      # creating method that applies raise\n",
      " |  \n",
      " |  fullname(self)\n",
      " |      # creating a method that gives the full name\n",
      " |  \n",
      " |  ----------------------------------------------------------------------\n",
      " |  Data descriptors inherited from Employee:\n",
      " |  \n",
      " |  __dict__\n",
      " |      dictionary for instance variables (if defined)\n",
      " |  \n",
      " |  __weakref__\n",
      " |      list of weak references to the object (if defined)\n",
      " |  \n",
      " |  ----------------------------------------------------------------------\n",
      " |  Data and other attributes inherited from Employee:\n",
      " |  \n",
      " |  num_of_emps = 4\n",
      " |  \n",
      " |  raise_amt = 1.04\n",
      "\n",
      "None\n"
     ]
    }
   ],
   "source": [
    "print(help(Developer))"
   ]
  },
  {
   "cell_type": "code",
   "execution_count": 4,
   "metadata": {},
   "outputs": [
    {
     "name": "stdout",
     "output_type": "stream",
     "text": [
      "100000\n",
      "104000\n"
     ]
    }
   ],
   "source": [
    "print(dev_1.pay)\n",
    "dev_1.apply_raise()\n",
    "print(dev_1.pay)"
   ]
  },
  {
   "cell_type": "markdown",
   "metadata": {},
   "source": [
    "### You can make changes to a subclass without breaking anything in the parent class"
   ]
  },
  {
   "cell_type": "code",
   "execution_count": 7,
   "metadata": {},
   "outputs": [
    {
     "name": "stdout",
     "output_type": "stream",
     "text": [
      "100000\n",
      "110000\n"
     ]
    }
   ],
   "source": [
    "# changing class atribute to 10%\n",
    "\n",
    "class DeveloperV2(Employee): # stating what class we want to inherit from, we inherited it's functionality \n",
    "    raise_amt = 1.10\n",
    "\n",
    "\n",
    "dev_1 = DeveloperV2('Tia', 'Landry', 100000)\n",
    "\n",
    "print(dev_1.pay)\n",
    "dev_1.apply_raise()\n",
    "print(dev_1.pay)"
   ]
  },
  {
   "cell_type": "markdown",
   "metadata": {},
   "source": [
    "### Suppose we want to add a programming language as an attribute for the instance"
   ]
  },
  {
   "cell_type": "code",
   "execution_count": 9,
   "metadata": {},
   "outputs": [
    {
     "name": "stdout",
     "output_type": "stream",
     "text": [
      "Pradyun.Kumar@company.com\n",
      "Java\n"
     ]
    }
   ],
   "source": [
    "class DeveloperV2(Employee): # stating what class we want to inherit from, we inherited it's functionality \n",
    "    raise_amt = 1.10\n",
    "    \n",
    "    def __init__(self, first, last, pay, prog_lang):\n",
    "        # have Employee class take care of first, last, and pay\n",
    "        super().__init__(first, last, pay) # will first, last, and pay in Employee class __ini__\n",
    "        # you can also do Employee.__init__(self, first, last, pay)\n",
    "        self.prog_lang = prog_lang\n",
    "        \n",
    "dev_3 = DeveloperV2('Pradyun', 'Kumar', 1000, 'Java')\n",
    "dev_4 = DeveloperV2('Tannavee', 'Kumar', 100000, 'Python')\n",
    "\n",
    "print(dev_3.email)\n",
    "print(dev_3.prog_lang)"
   ]
  },
  {
   "cell_type": "code",
   "execution_count": 13,
   "metadata": {},
   "outputs": [
    {
     "name": "stdout",
     "output_type": "stream",
     "text": [
      "Sue.Smith@company.com\n",
      "---> Pradyun Kumar\n",
      "---> Tannavee Kumar\n"
     ]
    }
   ],
   "source": [
    "# subclass where you know which employees a manager manages\n",
    "\n",
    "class Manager(Employee):\n",
    "    \n",
    "    def __init__(self, first, last, pay, employees=None):\n",
    "        \n",
    "        # have Employee class take care of first, last, and pay\n",
    "        super().__init__(first, last, pay) # will first, last, and pay in Employee class __ini__\n",
    "        # you can also do Employee.__init__(self, first, last, pay)\n",
    "        \n",
    "        if employees is None:\n",
    "            self.employees = []\n",
    "        else:\n",
    "            self.employees = employees\n",
    "            \n",
    "    def add_emp(self, emp):\n",
    "        if emp not in self.employees:\n",
    "            self.employees.append(emp)\n",
    "                \n",
    "    def remove_emp(self, emp):\n",
    "        if emp in self.employees:\n",
    "            self.employees.remove(emp)\n",
    "            \n",
    "    def print_emps(self):\n",
    "        for emp in self.employees:\n",
    "            print('--->', emp.fullname())\n",
    "            \n",
    "mgr_1 = Manager('Sue', 'Smith', 180000, [dev_3])\n",
    "\n",
    "print(mgr_1.email)\n",
    "\n",
    "mgr_1.add_emp(dev_4)    \n",
    "\n",
    "mgr_1.print_emps()\n",
    "        "
   ]
  },
  {
   "cell_type": "code",
   "execution_count": 15,
   "metadata": {},
   "outputs": [
    {
     "name": "stdout",
     "output_type": "stream",
     "text": [
      "---> Tannavee Kumar\n"
     ]
    }
   ],
   "source": [
    "mgr_1.remove_emp(dev_3) \n",
    "mgr_1.print_emps()"
   ]
  },
  {
   "cell_type": "code",
   "execution_count": 18,
   "metadata": {},
   "outputs": [
    {
     "name": "stdout",
     "output_type": "stream",
     "text": [
      "15\n"
     ]
    }
   ],
   "source": [
    "print(Employee.num_of_emps)"
   ]
  }
 ],
 "metadata": {
  "kernelspec": {
   "display_name": "Python 3",
   "language": "python",
   "name": "python3"
  },
  "language_info": {
   "codemirror_mode": {
    "name": "ipython",
    "version": 3
   },
   "file_extension": ".py",
   "mimetype": "text/x-python",
   "name": "python",
   "nbconvert_exporter": "python",
   "pygments_lexer": "ipython3",
   "version": "3.8.3"
  }
 },
 "nbformat": 4,
 "nbformat_minor": 4
}
