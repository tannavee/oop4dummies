{
 "cells": [
  {
   "cell_type": "markdown",
   "metadata": {},
   "source": [
    "### General Themes\n",
    "\n",
    "#### Why should we use classes?\n",
    "Allows us to reuse and groups data and functions so that it is easy to reuse and build upon\n",
    "\n",
    "#### Data and Functions in the context of class\n",
    "Data: Attributes\n",
    "\n",
    "Functions: Methods\n",
    "\n",
    "#### Class vs instance of a class\n",
    "A class is a blueprint of for creating instances. For example each employee creating from below class is an instance of that class"
   ]
  },
  {
   "cell_type": "code",
   "execution_count": 3,
   "metadata": {},
   "outputs": [
    {
     "name": "stdout",
     "output_type": "stream",
     "text": [
      "<__main__.Employee object at 0x7fc4a860e8b0>\n",
      "<__main__.Employee object at 0x7fc4a860ef70>\n"
     ]
    }
   ],
   "source": [
    "#creating a class that allows us to represent all the employees within a company\n",
    "\n",
    "class Employee:\n",
    "    # if you just leave in \"pass\" than then you keep the class empty without getting and error\n",
    "    pass\n",
    "\n",
    "    \n",
    "# examples of instances/objects of a class\n",
    "emp_1 = Employee()\n",
    "emp_2 = Employee()\n",
    "\n",
    "print(emp_1)\n",
    "print(emp_2)"
   ]
  },
  {
   "cell_type": "markdown",
   "metadata": {},
   "source": [
    "Above output are Employee objects, and have unique location in memory.\n",
    "\n",
    "### Instance Variables\n",
    "- Contain data that are unique to each instance\n",
    "- can manually create instance variables (below)\n",
    "- or you can create instance variables at the time where the instance is created, using init method"
   ]
  },
  {
   "cell_type": "code",
   "execution_count": 4,
   "metadata": {},
   "outputs": [
    {
     "name": "stdout",
     "output_type": "stream",
     "text": [
      "anne.lee@company.com\n",
      "test.user@company.com\n"
     ]
    }
   ],
   "source": [
    "# mannually creating instance variables for each employee\n",
    "\n",
    "emp_1.first = 'Anne'\n",
    "emp_1.last = 'Lee'\n",
    "emp_1.email = 'anne.lee@company.com'\n",
    "emp_1.pay = 50000\n",
    "\n",
    "emp_2.first = 'Test'\n",
    "emp_2.last = 'Use'\n",
    "emp_2.email = 'test.user@company.com'\n",
    "emp_2.pay = 60000\n",
    "\n",
    "print(emp_1.email)\n",
    "print(emp_2.email)"
   ]
  },
  {
   "cell_type": "markdown",
   "metadata": {},
   "source": [
    "### __init__ method\n",
    "- 'inititalizing', same as constructor\n",
    "- when we create mehtods in a class, they recieve the first instance automatically, start odd as self\n",
    "- by using **self** we can access the attriutes and methods of the class in python, binds the attributes with the given argument, **self is the instance**\n",
    "    - in other words **self is the same thing as doing emp_1.first = 'Anne'**, but now you are doing that with self\n",
    "- the init method also lays out the attributes of the class"
   ]
  },
  {
   "cell_type": "code",
   "execution_count": 6,
   "metadata": {},
   "outputs": [
    {
     "name": "stdout",
     "output_type": "stream",
     "text": [
      "Tia.Landry@company.com\n",
      "Tamera.Campbell@company.com\n"
     ]
    }
   ],
   "source": [
    "class EmpApp:\n",
    "    def __init__(self, first, last, pay): # inputs\n",
    "        # set all of the instance variables \n",
    "        self.first = first \n",
    "        self.last = last\n",
    "        self.pay = pay\n",
    "        self.email = first + '.' + last + '@company.com'\n",
    "        # names, pay, email are all attributes of the class\n",
    "\n",
    "# now instead of doing everything manually, it will be created automatically when we create the employee objects    \n",
    "# in other words emp_1 = self in the above class\n",
    "emp_1 = EmpApp('Tia', 'Landry', 100000)\n",
    "emp_2 = EmpApp('Tamera', 'Campbell', 56000)\n",
    "\n",
    "print(emp_1.email)\n",
    "print(emp_2.email)"
   ]
  },
  {
   "cell_type": "code",
   "execution_count": 7,
   "metadata": {},
   "outputs": [
    {
     "name": "stdout",
     "output_type": "stream",
     "text": [
      "Tia Landry\n"
     ]
    }
   ],
   "source": [
    "# what if we want the full name of the employee?\n",
    "\n",
    "print('{} {}'.format(emp_1.first, emp_1.last))"
   ]
  },
  {
   "cell_type": "markdown",
   "metadata": {},
   "source": [
    "### Methods\n",
    "- if we want our class to do some kind of function\n",
    "- you can call on methods two differnt ways\n",
    "\n",
    "    ```\n",
    "    emp_1.fullname() == EmpAppV2.fullname(emp_1)\n",
    "    ```\n",
    "    \n",
    "    \n",
    "    1. in the frst way, you are specifying the instance, so the method automatically considers it\n",
    "    2. in the seconds way, when we call the method on the class, it doesn't know what instance we are considering\n"
   ]
  },
  {
   "cell_type": "code",
   "execution_count": 10,
   "metadata": {},
   "outputs": [
    {
     "name": "stdout",
     "output_type": "stream",
     "text": [
      "Lisa Landry\n",
      "Ray Campbell\n"
     ]
    }
   ],
   "source": [
    "class EmpAppV2:\n",
    "    def __init__(self, first, last, pay): # inputs\n",
    "        # set all of the instance variables \n",
    "        self.first = first \n",
    "        self.last = last\n",
    "        self.pay = pay\n",
    "        self.email = first + '.' + last + '@company.com'\n",
    "        # names, pay, email are all attributes of the class\n",
    "    \n",
    "    # creating a method that gives the full name\n",
    "    def fullname(self): # always takes the instance as the first argument\n",
    "        return '{} {}'.format(self.first, self.last)\n",
    "    \n",
    "\n",
    "\n",
    "emp_1 = EmpAppV2('Lisa', 'Landry', 100000)\n",
    "emp_2 = EmpAppV2('Ray', 'Campbell', 56000)\n",
    "\n",
    "# since emp_1 is an ebject of the class already, you can just call upon that function\n",
    "\n",
    "print(emp_1.fullname())\n",
    "\n",
    "print(emp_2.fullname())\n",
    "        "
   ]
  },
  {
   "cell_type": "code",
   "execution_count": 11,
   "metadata": {},
   "outputs": [
    {
     "name": "stdout",
     "output_type": "stream",
     "text": [
      "Lisa Landry\n",
      "Lisa Landry\n"
     ]
    }
   ],
   "source": [
    "print(emp_1.fullname()) \n",
    "print(EmpAppV2.fullname(emp_1))"
   ]
  }
 ],
 "metadata": {
  "kernelspec": {
   "display_name": "Python 3",
   "language": "python",
   "name": "python3"
  },
  "language_info": {
   "codemirror_mode": {
    "name": "ipython",
    "version": 3
   },
   "file_extension": ".py",
   "mimetype": "text/x-python",
   "name": "python",
   "nbconvert_exporter": "python",
   "pygments_lexer": "ipython3",
   "version": "3.8.3"
  }
 },
 "nbformat": 4,
 "nbformat_minor": 4
}
